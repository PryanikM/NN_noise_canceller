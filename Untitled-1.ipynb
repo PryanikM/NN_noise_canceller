{
 "cells": [
  {
   "cell_type": "code",
   "execution_count": 1,
   "metadata": {},
   "outputs": [],
   "source": [
    "import utils as utils\n",
    "import torch.optim as optim\n",
    "import torch\n",
    "from IPython.display import Audio\n",
    "import NeuralNet"
   ]
  },
  {
   "cell_type": "code",
   "execution_count": 2,
   "metadata": {},
   "outputs": [],
   "source": [
    "VCTK_PATH = \"dataset/clear\"\n",
    "# VCTK_PATH = \"dataset/clear/\"\n",
    "DEMAND_PATH = \"dataset/noise\"\n",
    "signal_length = 5"
   ]
  },
  {
   "cell_type": "code",
   "execution_count": 3,
   "metadata": {},
   "outputs": [
    {
     "ename": "SyntaxError",
     "evalue": "invalid syntax. Perhaps you forgot a comma? (2072956294.py, line 10)",
     "output_type": "error",
     "traceback": [
      "\u001b[1;36m  Cell \u001b[1;32mIn[3], line 10\u001b[1;36m\u001b[0m\n\u001b[1;33m    neural_net=NeuralNet.DenoisingNet\u001b[0m\n\u001b[1;37m               ^\u001b[0m\n\u001b[1;31mSyntaxError\u001b[0m\u001b[1;31m:\u001b[0m invalid syntax. Perhaps you forgot a comma?\n"
     ]
    }
   ],
   "source": [
    "neuralNet = utils.NeuralNetwork(\n",
    "                                noisy_dir=DEMAND_PATH,\n",
    "                                clean_dir=VCTK_PATH, \n",
    "                                sr=16000,\n",
    "                                n_fft=1024,\n",
    "                                hop_length=512,\n",
    "                                target_length=3.,\n",
    "                                train_frac=0.15,\n",
    "                                batch_size=100,\n",
    "                                neural_net=NeuralNet.DenoisingNet,\n",
    "                                validation_repeate=0\n",
    "                                )"
   ]
  },
  {
   "cell_type": "code",
   "execution_count": 4,
   "metadata": {},
   "outputs": [],
   "source": [
    "mix_spector, clean_spector, noisy_spector, clean_audio, noisy_audio, mix_audio =  neuralNet.get_example()"
   ]
  },
  {
   "cell_type": "code",
   "execution_count": null,
   "metadata": {},
   "outputs": [],
   "source": [
    "utils.visualize_results((clean_spector, \"Исходный сигнал\"), (noisy_spector, \"Шум\"),  (mix_spector, \"Зашумленный сигнал\"))"
   ]
  },
  {
   "cell_type": "code",
   "execution_count": 6,
   "metadata": {},
   "outputs": [],
   "source": [
    "optimizer = optim.Adam(neuralNet.get_model().parameters(), lr=0.001)\n",
    "loss_fn = torch.nn.MSELoss()\n",
    "epochs = 1"
   ]
  },
  {
   "cell_type": "code",
   "execution_count": null,
   "metadata": {},
   "outputs": [],
   "source": [
    "\n",
    "neuralNet.study(epochs, loss_fn, optimizer)"
   ]
  },
  {
   "cell_type": "code",
   "execution_count": 8,
   "metadata": {},
   "outputs": [],
   "source": [
    "# dataloader = DataLoader(dataset, batch_size=1, shuffle=True)\n",
    "mix_spector, clean_spector, noisy_spector, clean_audio, noisy_audio, mix_audio =  neuralNet.get_example()"
   ]
  },
  {
   "cell_type": "code",
   "execution_count": 9,
   "metadata": {},
   "outputs": [],
   "source": [
    "\n",
    "prediction_stft, prediction_signal = neuralNet.get_result_from_model(mix_spector)\n"
   ]
  },
  {
   "cell_type": "code",
   "execution_count": null,
   "metadata": {},
   "outputs": [],
   "source": [
    "utils.visualize_results((clean_spector, \"Исходный сигнал\"), (mix_spector, \"Шумный сигнал\"),  (prediction_stft, \"Результат\"))"
   ]
  },
  {
   "cell_type": "code",
   "execution_count": null,
   "metadata": {},
   "outputs": [],
   "source": [
    "Audio(clean_audio, rate=16000)"
   ]
  },
  {
   "cell_type": "code",
   "execution_count": null,
   "metadata": {},
   "outputs": [],
   "source": [
    "Audio(noisy_audio, rate=16000)"
   ]
  },
  {
   "cell_type": "code",
   "execution_count": null,
   "metadata": {},
   "outputs": [],
   "source": [
    "Audio(mix_audio, rate=16000)"
   ]
  },
  {
   "cell_type": "code",
   "execution_count": null,
   "metadata": {},
   "outputs": [],
   "source": [
    "Audio(prediction_signal, rate=16000)"
   ]
  }
 ],
 "metadata": {
  "kernelspec": {
   "display_name": "Python 3",
   "language": "python",
   "name": "python3"
  },
  "language_info": {
   "codemirror_mode": {
    "name": "ipython",
    "version": 3
   },
   "file_extension": ".py",
   "mimetype": "text/x-python",
   "name": "python",
   "nbconvert_exporter": "python",
   "pygments_lexer": "ipython3",
   "version": "3.12.0"
  }
 },
 "nbformat": 4,
 "nbformat_minor": 2
}
